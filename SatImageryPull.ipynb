{
 "cells": [
  {
   "cell_type": "markdown",
   "id": "d4a0540b-9c22-4705-b563-07a2159a5c26",
   "metadata": {},
   "source": [
    "## Let's search & download some imagery of a park near Champaign, IL. Here are the steps we'll follow:\n",
    "1) Define an Area of Interest (AOI)\n",
    "2) Save our AOI's coordinates to GeoJSON format\n",
    "3) Create a few search filters\n",
    "4) Search for imagery using those filters\n",
    "5) Activate an image for downloading\n",
    "6) Download an image"
   ]
  },
  {
   "cell_type": "code",
   "execution_count": 1,
   "id": "ab1b72fe-f7eb-4237-9d9f-fc1c4184b402",
   "metadata": {},
   "outputs": [],
   "source": [
    "import os\n",
    "\n",
    "# if your Planet API Key is not set as an environment variable, you can paste it below\n",
    "if os.environ.get('PL_API_KEY', ''):\n",
    "    API_KEY = os.environ.get('PL_API_KEY', '')\n",
    "else:\n",
    "    API_KEY = 'PLAK2b57211aec574464b2d71546ec833bab'"
   ]
  },
  {
   "cell_type": "code",
   "execution_count": null,
   "id": "66d6e083-6f5d-412d-8884-3545c5c6aaca",
   "metadata": {},
   "outputs": [],
   "source": [
    "# West Champaign, IL bounding box \n",
    "geojson_geometry = {\n",
    "  \"type\": \"Polygon\",\n",
    "  \"coordinates\": [\n",
    "    [ \n",
    "      [-121.59290313720705, 37.93444993515032],\n",
    "      [-121.27017974853516, 37.93444993515032],\n",
    "      [-121.27017974853516, 38.065932950547484],\n",
    "      [-121.59290313720705, 38.065932950547484],\n",
    "      [-121.59290313720705, 37.93444993515032]\n",
    "    ]\n",
    "  ]\n",
    "}"
   ]
  }
 ],
 "metadata": {
  "kernelspec": {
   "display_name": "Python 3",
   "language": "python",
   "name": "python3"
  },
  "language_info": {
   "codemirror_mode": {
    "name": "ipython",
    "version": 3
   },
   "file_extension": ".py",
   "mimetype": "text/x-python",
   "name": "python",
   "nbconvert_exporter": "python",
   "pygments_lexer": "ipython3",
   "version": "3.10.10"
  },
  "vscode": {
   "interpreter": {
    "hash": "27d8c82720d960df87743be14161e6f7351af57d8b5f04fea83f01e4b383fdff"
   }
  }
 },
 "nbformat": 4,
 "nbformat_minor": 5
}
