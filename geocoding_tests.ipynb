{
 "cells": [
  {
   "cell_type": "code",
   "execution_count": 5,
   "metadata": {
    "tags": []
   },
   "outputs": [],
   "source": [
    "import pandas as pd\n",
    "import geopandas as gpd\n",
    "# Import necessary geometric objects from shapely module\n",
    "from shapely.geometry import Point, LineString, Polygon\n",
    "import geopy\n",
    "from geopy.geocoders import Nominatim\n",
    "from geopy.extra.rate_limiter import RateLimiter"
   ]
  },
  {
   "cell_type": "code",
   "execution_count": 6,
   "metadata": {
    "tags": []
   },
   "outputs": [],
   "source": [
    "# Create a Polygon from the coordinates\n",
    "poly = Polygon([(2.2, 4.2), (7.2, -25.1), (9.26, -2.456)])"
   ]
  },
  {
   "cell_type": "markdown",
   "metadata": {},
   "source": [
    "### Geographic Partionining\n",
    "* We have a few options in partionining mobile data spatially\n",
    "    * __Option 1__: Call a free geocoding API (i.e. Nominatim) to get the relevant OpenStreetMap information. From here we can find the bounding box coordinates of a particular POI\n",
    "    * __Option 2__: Partition by federal and/or state designations, i.e. census tracts, zip codes, etc."
   ]
  },
  {
   "cell_type": "markdown",
   "metadata": {},
   "source": [
    "#### Geocoding Example"
   ]
  },
  {
   "cell_type": "code",
   "execution_count": 7,
   "metadata": {
    "tags": []
   },
   "outputs": [],
   "source": [
    "locator = Nominatim(user_agent=\"Untitled-1\")"
   ]
  },
  {
   "cell_type": "code",
   "execution_count": 8,
   "metadata": {
    "tags": []
   },
   "outputs": [
    {
     "data": {
      "text/plain": [
       "{'place_id': 123369969,\n",
       " 'licence': 'Data © OpenStreetMap contributors, ODbL 1.0. https://osm.org/copyright',\n",
       " 'osm_type': 'way',\n",
       " 'osm_id': 74924556,\n",
       " 'boundingbox': ['39.9816336', '40.0139883', '-88.6741759', '-88.6273892'],\n",
       " 'lat': '39.997755350000006',\n",
       " 'lon': '-88.64642250857688',\n",
       " 'display_name': 'Robert Allerton Park, Monticello, Piatt County, Illinois, 61856, United States',\n",
       " 'class': 'leisure',\n",
       " 'type': 'park',\n",
       " 'importance': 0.521409003314806}"
      ]
     },
     "execution_count": 8,
     "metadata": {},
     "output_type": "execute_result"
    }
   ],
   "source": [
    "location = locator.geocode(\"Allerton Park & Retreat Center\")\n",
    "location.raw"
   ]
  },
  {
   "cell_type": "code",
   "execution_count": 9,
   "metadata": {
    "tags": []
   },
   "outputs": [
    {
     "data": {
      "text/plain": [
       "[39.9816336, 40.0139883, -88.6741759, -88.6273892]"
      ]
     },
     "execution_count": 9,
     "metadata": {},
     "output_type": "execute_result"
    }
   ],
   "source": [
    "bbox = list()\n",
    "[bbox.append(float(i)) for i in location.raw['boundingbox']]\n",
    "bbox"
   ]
  },
  {
   "cell_type": "code",
   "execution_count": 14,
   "metadata": {
    "tags": []
   },
   "outputs": [
    {
     "data": {
      "image/svg+xml": [
       "<svg xmlns=\"http://www.w3.org/2000/svg\" xmlns:xlink=\"http://www.w3.org/1999/xlink\" width=\"100.0\" height=\"100.0\" viewBox=\"-88.676047368 39.979762132000005 0.05052963600000737 0.03609763599999383\" preserveAspectRatio=\"xMinYMin meet\"><g transform=\"matrix(1,0,0,-1,0,79.9956219)\"><path fill-rule=\"evenodd\" fill=\"#66cc99\" stroke=\"#555555\" stroke-width=\"0.0010105927200001474\" opacity=\"0.6\" d=\"M -88.6273892,39.9816336 L -88.6273892,40.0139883 L -88.6741759,40.0139883 L -88.6741759,39.9816336 L -88.6273892,39.9816336 z\" /></g></svg>"
      ],
      "text/plain": [
       "<POLYGON ((-88.627 39.982, -88.627 40.014, -88.674 40.014, -88.674 39.982, -...>"
      ]
     },
     "execution_count": 14,
     "metadata": {},
     "output_type": "execute_result"
    }
   ],
   "source": [
    "from shapely.geometry import box\n",
    "\n",
    "miny, maxy, minx, maxx = bbox\n",
    "\n",
    "poly = box(minx=minx, miny=miny, maxx=maxx, maxy=maxy)\n",
    "\n",
    "poly"
   ]
  },
  {
   "cell_type": "markdown",
   "metadata": {},
   "source": [
    "#### Census Tract Example"
   ]
  },
  {
   "cell_type": "code",
   "execution_count": 23,
   "metadata": {
    "collapsed": true,
    "jupyter": {
     "outputs_hidden": true
    },
    "tags": []
   },
   "outputs": [
    {
     "data": {
      "text/html": [
       "<div>\n",
       "<style scoped>\n",
       "    .dataframe tbody tr th:only-of-type {\n",
       "        vertical-align: middle;\n",
       "    }\n",
       "\n",
       "    .dataframe tbody tr th {\n",
       "        vertical-align: top;\n",
       "    }\n",
       "\n",
       "    .dataframe thead th {\n",
       "        text-align: right;\n",
       "    }\n",
       "</style>\n",
       "<table border=\"1\" class=\"dataframe\">\n",
       "  <thead>\n",
       "    <tr style=\"text-align: right;\">\n",
       "      <th></th>\n",
       "      <th>STATEFP</th>\n",
       "      <th>COUNTYFP</th>\n",
       "      <th>TRACTCE</th>\n",
       "      <th>AFFGEOID</th>\n",
       "      <th>GEOID</th>\n",
       "      <th>NAME</th>\n",
       "      <th>NAMELSAD</th>\n",
       "      <th>STUSPS</th>\n",
       "      <th>NAMELSADCO</th>\n",
       "      <th>STATE_NAME</th>\n",
       "      <th>LSAD</th>\n",
       "      <th>ALAND</th>\n",
       "      <th>AWATER</th>\n",
       "      <th>geometry</th>\n",
       "    </tr>\n",
       "  </thead>\n",
       "  <tbody>\n",
       "    <tr>\n",
       "      <th>0</th>\n",
       "      <td>40</td>\n",
       "      <td>007</td>\n",
       "      <td>951600</td>\n",
       "      <td>1400000US40007951600</td>\n",
       "      <td>40007951600</td>\n",
       "      <td>9516</td>\n",
       "      <td>Census Tract 9516</td>\n",
       "      <td>OK</td>\n",
       "      <td>Beaver County</td>\n",
       "      <td>Oklahoma</td>\n",
       "      <td>CT</td>\n",
       "      <td>1971018179</td>\n",
       "      <td>6122262</td>\n",
       "      <td>POLYGON ((-100.95421 36.71703, -100.95421 36.7...</td>\n",
       "    </tr>\n",
       "    <tr>\n",
       "      <th>1</th>\n",
       "      <td>40</td>\n",
       "      <td>139</td>\n",
       "      <td>950800</td>\n",
       "      <td>1400000US40139950800</td>\n",
       "      <td>40139950800</td>\n",
       "      <td>9508</td>\n",
       "      <td>Census Tract 9508</td>\n",
       "      <td>OK</td>\n",
       "      <td>Texas County</td>\n",
       "      <td>Oklahoma</td>\n",
       "      <td>CT</td>\n",
       "      <td>5124635</td>\n",
       "      <td>0</td>\n",
       "      <td>POLYGON ((-101.49220 36.68950, -101.48157 36.6...</td>\n",
       "    </tr>\n",
       "    <tr>\n",
       "      <th>2</th>\n",
       "      <td>40</td>\n",
       "      <td>047</td>\n",
       "      <td>001100</td>\n",
       "      <td>1400000US40047001100</td>\n",
       "      <td>40047001100</td>\n",
       "      <td>11</td>\n",
       "      <td>Census Tract 11</td>\n",
       "      <td>OK</td>\n",
       "      <td>Garfield County</td>\n",
       "      <td>Oklahoma</td>\n",
       "      <td>CT</td>\n",
       "      <td>972877962</td>\n",
       "      <td>1905317</td>\n",
       "      <td>POLYGON ((-98.10438 36.47031, -98.10437 36.477...</td>\n",
       "    </tr>\n",
       "    <tr>\n",
       "      <th>3</th>\n",
       "      <td>40</td>\n",
       "      <td>131</td>\n",
       "      <td>050104</td>\n",
       "      <td>1400000US40131050104</td>\n",
       "      <td>40131050104</td>\n",
       "      <td>501.04</td>\n",
       "      <td>Census Tract 501.04</td>\n",
       "      <td>OK</td>\n",
       "      <td>Rogers County</td>\n",
       "      <td>Oklahoma</td>\n",
       "      <td>CT</td>\n",
       "      <td>1956422</td>\n",
       "      <td>0</td>\n",
       "      <td>POLYGON ((-95.63264 36.31094, -95.62823 36.311...</td>\n",
       "    </tr>\n",
       "    <tr>\n",
       "      <th>4</th>\n",
       "      <td>40</td>\n",
       "      <td>101</td>\n",
       "      <td>000200</td>\n",
       "      <td>1400000US40101000200</td>\n",
       "      <td>40101000200</td>\n",
       "      <td>2</td>\n",
       "      <td>Census Tract 2</td>\n",
       "      <td>OK</td>\n",
       "      <td>Muskogee County</td>\n",
       "      <td>Oklahoma</td>\n",
       "      <td>CT</td>\n",
       "      <td>8409929</td>\n",
       "      <td>35504</td>\n",
       "      <td>POLYGON ((-95.41162 35.78401, -95.40494 35.784...</td>\n",
       "    </tr>\n",
       "  </tbody>\n",
       "</table>\n",
       "</div>"
      ],
      "text/plain": [
       "  STATEFP COUNTYFP TRACTCE              AFFGEOID        GEOID    NAME  \\\n",
       "0      40      007  951600  1400000US40007951600  40007951600    9516   \n",
       "1      40      139  950800  1400000US40139950800  40139950800    9508   \n",
       "2      40      047  001100  1400000US40047001100  40047001100      11   \n",
       "3      40      131  050104  1400000US40131050104  40131050104  501.04   \n",
       "4      40      101  000200  1400000US40101000200  40101000200       2   \n",
       "\n",
       "              NAMELSAD STUSPS       NAMELSADCO STATE_NAME LSAD       ALAND  \\\n",
       "0    Census Tract 9516     OK    Beaver County   Oklahoma   CT  1971018179   \n",
       "1    Census Tract 9508     OK     Texas County   Oklahoma   CT     5124635   \n",
       "2      Census Tract 11     OK  Garfield County   Oklahoma   CT   972877962   \n",
       "3  Census Tract 501.04     OK    Rogers County   Oklahoma   CT     1956422   \n",
       "4       Census Tract 2     OK  Muskogee County   Oklahoma   CT     8409929   \n",
       "\n",
       "    AWATER                                           geometry  \n",
       "0  6122262  POLYGON ((-100.95421 36.71703, -100.95421 36.7...  \n",
       "1        0  POLYGON ((-101.49220 36.68950, -101.48157 36.6...  \n",
       "2  1905317  POLYGON ((-98.10438 36.47031, -98.10437 36.477...  \n",
       "3        0  POLYGON ((-95.63264 36.31094, -95.62823 36.311...  \n",
       "4    35504  POLYGON ((-95.41162 35.78401, -95.40494 35.784...  "
      ]
     },
     "execution_count": 23,
     "metadata": {},
     "output_type": "execute_result"
    }
   ],
   "source": [
    "OK_url = \"https://www2.census.gov/geo/tiger/GENZ2020/shp/cb_2020_40_tract_500k.zip\"\n",
    "OK_tracts = gpd.read_file(OK_url)\n",
    "OK_tracts.head()"
   ]
  },
  {
   "cell_type": "code",
   "execution_count": 30,
   "metadata": {
    "tags": []
   },
   "outputs": [
    {
     "data": {
      "text/html": [
       "<div>\n",
       "<style scoped>\n",
       "    .dataframe tbody tr th:only-of-type {\n",
       "        vertical-align: middle;\n",
       "    }\n",
       "\n",
       "    .dataframe tbody tr th {\n",
       "        vertical-align: top;\n",
       "    }\n",
       "\n",
       "    .dataframe thead th {\n",
       "        text-align: right;\n",
       "    }\n",
       "</style>\n",
       "<table border=\"1\" class=\"dataframe\">\n",
       "  <thead>\n",
       "    <tr style=\"text-align: right;\">\n",
       "      <th></th>\n",
       "      <th>STATEFP</th>\n",
       "      <th>COUNTYFP</th>\n",
       "      <th>TRACTCE</th>\n",
       "      <th>AFFGEOID</th>\n",
       "      <th>GEOID</th>\n",
       "      <th>NAME</th>\n",
       "      <th>NAMELSAD</th>\n",
       "      <th>STUSPS</th>\n",
       "      <th>NAMELSADCO</th>\n",
       "      <th>STATE_NAME</th>\n",
       "      <th>LSAD</th>\n",
       "      <th>ALAND</th>\n",
       "      <th>AWATER</th>\n",
       "      <th>geometry</th>\n",
       "    </tr>\n",
       "  </thead>\n",
       "  <tbody>\n",
       "    <tr>\n",
       "      <th>0</th>\n",
       "      <td>17</td>\n",
       "      <td>143</td>\n",
       "      <td>000200</td>\n",
       "      <td>1400000US17143000200</td>\n",
       "      <td>17143000200</td>\n",
       "      <td>2</td>\n",
       "      <td>Census Tract 2</td>\n",
       "      <td>IL</td>\n",
       "      <td>Peoria County</td>\n",
       "      <td>Illinois</td>\n",
       "      <td>CT</td>\n",
       "      <td>971324</td>\n",
       "      <td>0</td>\n",
       "      <td>POLYGON ((-89.64231 40.66903, -89.64230 40.670...</td>\n",
       "    </tr>\n",
       "    <tr>\n",
       "      <th>1</th>\n",
       "      <td>17</td>\n",
       "      <td>143</td>\n",
       "      <td>003200</td>\n",
       "      <td>1400000US17143003200</td>\n",
       "      <td>17143003200</td>\n",
       "      <td>32</td>\n",
       "      <td>Census Tract 32</td>\n",
       "      <td>IL</td>\n",
       "      <td>Peoria County</td>\n",
       "      <td>Illinois</td>\n",
       "      <td>CT</td>\n",
       "      <td>3192142</td>\n",
       "      <td>0</td>\n",
       "      <td>POLYGON ((-89.62153 40.77981, -89.62148 40.783...</td>\n",
       "    </tr>\n",
       "    <tr>\n",
       "      <th>2</th>\n",
       "      <td>17</td>\n",
       "      <td>003</td>\n",
       "      <td>957900</td>\n",
       "      <td>1400000US17003957900</td>\n",
       "      <td>17003957900</td>\n",
       "      <td>9579</td>\n",
       "      <td>Census Tract 9579</td>\n",
       "      <td>IL</td>\n",
       "      <td>Alexander County</td>\n",
       "      <td>Illinois</td>\n",
       "      <td>CT</td>\n",
       "      <td>10197484</td>\n",
       "      <td>4353423</td>\n",
       "      <td>POLYGON ((-89.19649 37.00498, -89.19298 37.006...</td>\n",
       "    </tr>\n",
       "    <tr>\n",
       "      <th>3</th>\n",
       "      <td>17</td>\n",
       "      <td>073</td>\n",
       "      <td>030800</td>\n",
       "      <td>1400000US17073030800</td>\n",
       "      <td>17073030800</td>\n",
       "      <td>308</td>\n",
       "      <td>Census Tract 308</td>\n",
       "      <td>IL</td>\n",
       "      <td>Henry County</td>\n",
       "      <td>Illinois</td>\n",
       "      <td>CT</td>\n",
       "      <td>22273126</td>\n",
       "      <td>31720</td>\n",
       "      <td>POLYGON ((-89.92486 41.24720, -89.92063 41.248...</td>\n",
       "    </tr>\n",
       "    <tr>\n",
       "      <th>4</th>\n",
       "      <td>17</td>\n",
       "      <td>107</td>\n",
       "      <td>953100</td>\n",
       "      <td>1400000US17107953100</td>\n",
       "      <td>17107953100</td>\n",
       "      <td>9531</td>\n",
       "      <td>Census Tract 9531</td>\n",
       "      <td>IL</td>\n",
       "      <td>Logan County</td>\n",
       "      <td>Illinois</td>\n",
       "      <td>CT</td>\n",
       "      <td>13166640</td>\n",
       "      <td>375360</td>\n",
       "      <td>POLYGON ((-89.41759 40.16712, -89.41683 40.172...</td>\n",
       "    </tr>\n",
       "  </tbody>\n",
       "</table>\n",
       "</div>"
      ],
      "text/plain": [
       "  STATEFP COUNTYFP TRACTCE              AFFGEOID        GEOID  NAME  \\\n",
       "0      17      143  000200  1400000US17143000200  17143000200     2   \n",
       "1      17      143  003200  1400000US17143003200  17143003200    32   \n",
       "2      17      003  957900  1400000US17003957900  17003957900  9579   \n",
       "3      17      073  030800  1400000US17073030800  17073030800   308   \n",
       "4      17      107  953100  1400000US17107953100  17107953100  9531   \n",
       "\n",
       "            NAMELSAD STUSPS        NAMELSADCO STATE_NAME LSAD     ALAND  \\\n",
       "0     Census Tract 2     IL     Peoria County   Illinois   CT    971324   \n",
       "1    Census Tract 32     IL     Peoria County   Illinois   CT   3192142   \n",
       "2  Census Tract 9579     IL  Alexander County   Illinois   CT  10197484   \n",
       "3   Census Tract 308     IL      Henry County   Illinois   CT  22273126   \n",
       "4  Census Tract 9531     IL      Logan County   Illinois   CT  13166640   \n",
       "\n",
       "    AWATER                                           geometry  \n",
       "0        0  POLYGON ((-89.64231 40.66903, -89.64230 40.670...  \n",
       "1        0  POLYGON ((-89.62153 40.77981, -89.62148 40.783...  \n",
       "2  4353423  POLYGON ((-89.19649 37.00498, -89.19298 37.006...  \n",
       "3    31720  POLYGON ((-89.92486 41.24720, -89.92063 41.248...  \n",
       "4   375360  POLYGON ((-89.41759 40.16712, -89.41683 40.172...  "
      ]
     },
     "execution_count": 30,
     "metadata": {},
     "output_type": "execute_result"
    }
   ],
   "source": [
    "IL_url = \"https://www2.census.gov/geo/tiger/GENZ2020/shp/cb_2020_17_tract_500k.zip\"\n",
    "IL_tracts = gpd.read_file(IL_url)\n",
    "IL_tracts.head()"
   ]
  },
  {
   "cell_type": "markdown",
   "metadata": {},
   "source": [
    "#### Now let's read in our mobile data"
   ]
  },
  {
   "cell_type": "code",
   "execution_count": 49,
   "metadata": {
    "tags": []
   },
   "outputs": [],
   "source": [
    "IL_data = pd.read_csv('IL_1000_April06-08.csv')\n",
    "IL_gpd = gpd.GeoDataFrame(IL_data, crs='EPSG:4326', geometry=gpd.points_from_xy(IL_data['lon'], IL_data['lat']))\n",
    "#aea_proj_str = '+proj=aea +lat_1=38.00 +lat_2=42.00 +lat_0=40.11 +lon_0=-88.228'\n",
    "#IL_gpd = IL_gpd.to_crs(aea_proj_str)"
   ]
  },
  {
   "cell_type": "code",
   "execution_count": 50,
   "metadata": {
    "tags": []
   },
   "outputs": [
    {
     "data": {
      "text/plain": [
       "0         POINT (-88.24466 40.06169)\n",
       "1         POINT (-88.24466 40.06169)\n",
       "2         POINT (-88.24466 40.06169)\n",
       "3         POINT (-88.24466 40.06169)\n",
       "4         POINT (-88.24466 40.06169)\n",
       "                     ...            \n",
       "235362    POINT (-88.19766 40.08841)\n",
       "235363    POINT (-88.19766 40.08841)\n",
       "235364    POINT (-88.19766 40.08841)\n",
       "235365    POINT (-88.19766 40.08841)\n",
       "235366    POINT (-88.19766 40.08841)\n",
       "Name: geometry, Length: 235367, dtype: geometry"
      ]
     },
     "execution_count": 50,
     "metadata": {},
     "output_type": "execute_result"
    }
   ],
   "source": [
    "IL_gpd.geometry"
   ]
  }
 ],
 "metadata": {
  "kernelspec": {
   "display_name": "Python 3 (ipykernel)",
   "language": "python",
   "name": "python3"
  },
  "language_info": {
   "codemirror_mode": {
    "name": "ipython",
    "version": 3
   },
   "file_extension": ".py",
   "mimetype": "text/x-python",
   "name": "python",
   "nbconvert_exporter": "python",
   "pygments_lexer": "ipython3",
   "version": "3.10.9"
  },
  "vscode": {
   "interpreter": {
    "hash": "d62f2174eea0d9bd9debcff39ab12c8a6dc34e607bcdee8645fe9c7d40e0e109"
   }
  }
 },
 "nbformat": 4,
 "nbformat_minor": 4
}
