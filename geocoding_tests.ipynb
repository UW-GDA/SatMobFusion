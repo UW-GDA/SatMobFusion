{
 "cells": [
  {
   "cell_type": "code",
   "execution_count": 18,
   "metadata": {
    "tags": []
   },
   "outputs": [],
   "source": [
    "import pandas as pd\n",
    "import geopandas as gpd\n",
    "# Import necessary geometric objects from shapely module\n",
    "from shapely.geometry import Point, LineString, Polygon\n",
    "import geopy\n",
    "from geopy.geocoders import Nominatim\n",
    "import skmob\n",
    "import fiona"
   ]
  },
  {
   "cell_type": "code",
   "execution_count": 3,
   "metadata": {
    "tags": []
   },
   "outputs": [],
   "source": [
    "# Create a Polygon from the coordinates\n",
    "poly = Polygon([(2.2, 4.2), (7.2, -25.1), (9.26, -2.456)])"
   ]
  },
  {
   "cell_type": "markdown",
   "metadata": {},
   "source": [
    "### Geographic Partionining\n",
    "* We have a few options in partionining mobile data spatially\n",
    "    * __Option 1__: Call a free geocoding API (i.e. Nominatim) to get the relevant OpenStreetMap information. From here we can find the bounding box coordinates of a particular POI\n",
    "    * __Option 2__: Partition by federal and/or state designations, i.e. census tracts, zip codes, etc."
   ]
  },
  {
   "cell_type": "markdown",
   "metadata": {},
   "source": [
    "#### Geocoding Example"
   ]
  },
  {
   "cell_type": "code",
   "execution_count": 4,
   "metadata": {
    "tags": []
   },
   "outputs": [],
   "source": [
    "locator = Nominatim(user_agent=\"Untitled-1\")"
   ]
  },
  {
   "cell_type": "code",
   "execution_count": 23,
   "metadata": {
    "tags": []
   },
   "outputs": [
    {
     "data": {
      "text/plain": [
       "{'place_id': 123369969,\n",
       " 'licence': 'Data © OpenStreetMap contributors, ODbL 1.0. https://osm.org/copyright',\n",
       " 'osm_type': 'way',\n",
       " 'osm_id': 74924556,\n",
       " 'boundingbox': ['39.9816336', '40.0139883', '-88.6741759', '-88.6273892'],\n",
       " 'lat': '39.997755350000006',\n",
       " 'lon': '-88.64642250857688',\n",
       " 'display_name': 'Robert Allerton Park, Monticello, Piatt County, Illinois, 61856, United States',\n",
       " 'class': 'leisure',\n",
       " 'type': 'park',\n",
       " 'importance': 0.521409003314806}"
      ]
     },
     "execution_count": 23,
     "metadata": {},
     "output_type": "execute_result"
    }
   ],
   "source": [
    "location = locator.geocode(\"Allerton Park & Retreat Center\")\n",
    "location.raw"
   ]
  },
  {
   "cell_type": "code",
   "execution_count": 6,
   "metadata": {
    "tags": []
   },
   "outputs": [],
   "source": [
    "#bbox = list()\n",
    "#[bbox.append(float(i)) for i in location.raw['boundingbox']]\n",
    "#bbox"
   ]
  },
  {
   "cell_type": "code",
   "execution_count": 7,
   "metadata": {
    "tags": []
   },
   "outputs": [],
   "source": [
    "#from shapely.geometry import box\n",
    "#miny, maxy, minx, maxx = bbox\n",
    "#poly = box(minx=minx, miny=miny, maxx=maxx, maxy=maxy)\n",
    "#poly"
   ]
  },
  {
   "cell_type": "markdown",
   "metadata": {},
   "source": [
    "#### Census Tract Example"
   ]
  },
  {
   "cell_type": "code",
   "execution_count": 8,
   "metadata": {
    "collapsed": true,
    "jupyter": {
     "outputs_hidden": true
    },
    "tags": []
   },
   "outputs": [
    {
     "data": {
      "text/html": [
       "<div>\n",
       "<style scoped>\n",
       "    .dataframe tbody tr th:only-of-type {\n",
       "        vertical-align: middle;\n",
       "    }\n",
       "\n",
       "    .dataframe tbody tr th {\n",
       "        vertical-align: top;\n",
       "    }\n",
       "\n",
       "    .dataframe thead th {\n",
       "        text-align: right;\n",
       "    }\n",
       "</style>\n",
       "<table border=\"1\" class=\"dataframe\">\n",
       "  <thead>\n",
       "    <tr style=\"text-align: right;\">\n",
       "      <th></th>\n",
       "      <th>STATEFP</th>\n",
       "      <th>COUNTYFP</th>\n",
       "      <th>TRACTCE</th>\n",
       "      <th>AFFGEOID</th>\n",
       "      <th>GEOID</th>\n",
       "      <th>NAME</th>\n",
       "      <th>NAMELSAD</th>\n",
       "      <th>STUSPS</th>\n",
       "      <th>NAMELSADCO</th>\n",
       "      <th>STATE_NAME</th>\n",
       "      <th>LSAD</th>\n",
       "      <th>ALAND</th>\n",
       "      <th>AWATER</th>\n",
       "      <th>geometry</th>\n",
       "    </tr>\n",
       "  </thead>\n",
       "  <tbody>\n",
       "    <tr>\n",
       "      <th>0</th>\n",
       "      <td>40</td>\n",
       "      <td>007</td>\n",
       "      <td>951600</td>\n",
       "      <td>1400000US40007951600</td>\n",
       "      <td>40007951600</td>\n",
       "      <td>9516</td>\n",
       "      <td>Census Tract 9516</td>\n",
       "      <td>OK</td>\n",
       "      <td>Beaver County</td>\n",
       "      <td>Oklahoma</td>\n",
       "      <td>CT</td>\n",
       "      <td>1971018179</td>\n",
       "      <td>6122262</td>\n",
       "      <td>POLYGON ((-100.95421 36.71703, -100.95421 36.7...</td>\n",
       "    </tr>\n",
       "    <tr>\n",
       "      <th>1</th>\n",
       "      <td>40</td>\n",
       "      <td>139</td>\n",
       "      <td>950800</td>\n",
       "      <td>1400000US40139950800</td>\n",
       "      <td>40139950800</td>\n",
       "      <td>9508</td>\n",
       "      <td>Census Tract 9508</td>\n",
       "      <td>OK</td>\n",
       "      <td>Texas County</td>\n",
       "      <td>Oklahoma</td>\n",
       "      <td>CT</td>\n",
       "      <td>5124635</td>\n",
       "      <td>0</td>\n",
       "      <td>POLYGON ((-101.49220 36.68950, -101.48157 36.6...</td>\n",
       "    </tr>\n",
       "    <tr>\n",
       "      <th>2</th>\n",
       "      <td>40</td>\n",
       "      <td>047</td>\n",
       "      <td>001100</td>\n",
       "      <td>1400000US40047001100</td>\n",
       "      <td>40047001100</td>\n",
       "      <td>11</td>\n",
       "      <td>Census Tract 11</td>\n",
       "      <td>OK</td>\n",
       "      <td>Garfield County</td>\n",
       "      <td>Oklahoma</td>\n",
       "      <td>CT</td>\n",
       "      <td>972877962</td>\n",
       "      <td>1905317</td>\n",
       "      <td>POLYGON ((-98.10438 36.47031, -98.10437 36.477...</td>\n",
       "    </tr>\n",
       "    <tr>\n",
       "      <th>3</th>\n",
       "      <td>40</td>\n",
       "      <td>131</td>\n",
       "      <td>050104</td>\n",
       "      <td>1400000US40131050104</td>\n",
       "      <td>40131050104</td>\n",
       "      <td>501.04</td>\n",
       "      <td>Census Tract 501.04</td>\n",
       "      <td>OK</td>\n",
       "      <td>Rogers County</td>\n",
       "      <td>Oklahoma</td>\n",
       "      <td>CT</td>\n",
       "      <td>1956422</td>\n",
       "      <td>0</td>\n",
       "      <td>POLYGON ((-95.63264 36.31094, -95.62823 36.311...</td>\n",
       "    </tr>\n",
       "    <tr>\n",
       "      <th>4</th>\n",
       "      <td>40</td>\n",
       "      <td>101</td>\n",
       "      <td>000200</td>\n",
       "      <td>1400000US40101000200</td>\n",
       "      <td>40101000200</td>\n",
       "      <td>2</td>\n",
       "      <td>Census Tract 2</td>\n",
       "      <td>OK</td>\n",
       "      <td>Muskogee County</td>\n",
       "      <td>Oklahoma</td>\n",
       "      <td>CT</td>\n",
       "      <td>8409929</td>\n",
       "      <td>35504</td>\n",
       "      <td>POLYGON ((-95.41162 35.78401, -95.40494 35.784...</td>\n",
       "    </tr>\n",
       "  </tbody>\n",
       "</table>\n",
       "</div>"
      ],
      "text/plain": [
       "  STATEFP COUNTYFP TRACTCE              AFFGEOID        GEOID    NAME  \\\n",
       "0      40      007  951600  1400000US40007951600  40007951600    9516   \n",
       "1      40      139  950800  1400000US40139950800  40139950800    9508   \n",
       "2      40      047  001100  1400000US40047001100  40047001100      11   \n",
       "3      40      131  050104  1400000US40131050104  40131050104  501.04   \n",
       "4      40      101  000200  1400000US40101000200  40101000200       2   \n",
       "\n",
       "              NAMELSAD STUSPS       NAMELSADCO STATE_NAME LSAD       ALAND  \\\n",
       "0    Census Tract 9516     OK    Beaver County   Oklahoma   CT  1971018179   \n",
       "1    Census Tract 9508     OK     Texas County   Oklahoma   CT     5124635   \n",
       "2      Census Tract 11     OK  Garfield County   Oklahoma   CT   972877962   \n",
       "3  Census Tract 501.04     OK    Rogers County   Oklahoma   CT     1956422   \n",
       "4       Census Tract 2     OK  Muskogee County   Oklahoma   CT     8409929   \n",
       "\n",
       "    AWATER                                           geometry  \n",
       "0  6122262  POLYGON ((-100.95421 36.71703, -100.95421 36.7...  \n",
       "1        0  POLYGON ((-101.49220 36.68950, -101.48157 36.6...  \n",
       "2  1905317  POLYGON ((-98.10438 36.47031, -98.10437 36.477...  \n",
       "3        0  POLYGON ((-95.63264 36.31094, -95.62823 36.311...  \n",
       "4    35504  POLYGON ((-95.41162 35.78401, -95.40494 35.784...  "
      ]
     },
     "execution_count": 8,
     "metadata": {},
     "output_type": "execute_result"
    }
   ],
   "source": [
    "OK_url = \"https://www2.census.gov/geo/tiger/GENZ2020/shp/cb_2020_40_tract_500k.zip\"\n",
    "OK_tracts = gpd.read_file(OK_url)\n",
    "OK_tracts.head()"
   ]
  },
  {
   "cell_type": "code",
   "execution_count": 9,
   "metadata": {
    "tags": []
   },
   "outputs": [
    {
     "data": {
      "text/html": [
       "<div>\n",
       "<style scoped>\n",
       "    .dataframe tbody tr th:only-of-type {\n",
       "        vertical-align: middle;\n",
       "    }\n",
       "\n",
       "    .dataframe tbody tr th {\n",
       "        vertical-align: top;\n",
       "    }\n",
       "\n",
       "    .dataframe thead th {\n",
       "        text-align: right;\n",
       "    }\n",
       "</style>\n",
       "<table border=\"1\" class=\"dataframe\">\n",
       "  <thead>\n",
       "    <tr style=\"text-align: right;\">\n",
       "      <th></th>\n",
       "      <th>STATEFP</th>\n",
       "      <th>COUNTYFP</th>\n",
       "      <th>TRACTCE</th>\n",
       "      <th>AFFGEOID</th>\n",
       "      <th>GEOID</th>\n",
       "      <th>NAME</th>\n",
       "      <th>NAMELSAD</th>\n",
       "      <th>STUSPS</th>\n",
       "      <th>NAMELSADCO</th>\n",
       "      <th>STATE_NAME</th>\n",
       "      <th>LSAD</th>\n",
       "      <th>ALAND</th>\n",
       "      <th>AWATER</th>\n",
       "      <th>geometry</th>\n",
       "    </tr>\n",
       "  </thead>\n",
       "  <tbody>\n",
       "    <tr>\n",
       "      <th>0</th>\n",
       "      <td>17</td>\n",
       "      <td>143</td>\n",
       "      <td>000200</td>\n",
       "      <td>1400000US17143000200</td>\n",
       "      <td>17143000200</td>\n",
       "      <td>2</td>\n",
       "      <td>Census Tract 2</td>\n",
       "      <td>IL</td>\n",
       "      <td>Peoria County</td>\n",
       "      <td>Illinois</td>\n",
       "      <td>CT</td>\n",
       "      <td>971324</td>\n",
       "      <td>0</td>\n",
       "      <td>POLYGON ((-89.64231 40.66903, -89.64230 40.670...</td>\n",
       "    </tr>\n",
       "    <tr>\n",
       "      <th>1</th>\n",
       "      <td>17</td>\n",
       "      <td>143</td>\n",
       "      <td>003200</td>\n",
       "      <td>1400000US17143003200</td>\n",
       "      <td>17143003200</td>\n",
       "      <td>32</td>\n",
       "      <td>Census Tract 32</td>\n",
       "      <td>IL</td>\n",
       "      <td>Peoria County</td>\n",
       "      <td>Illinois</td>\n",
       "      <td>CT</td>\n",
       "      <td>3192142</td>\n",
       "      <td>0</td>\n",
       "      <td>POLYGON ((-89.62153 40.77981, -89.62148 40.783...</td>\n",
       "    </tr>\n",
       "    <tr>\n",
       "      <th>2</th>\n",
       "      <td>17</td>\n",
       "      <td>003</td>\n",
       "      <td>957900</td>\n",
       "      <td>1400000US17003957900</td>\n",
       "      <td>17003957900</td>\n",
       "      <td>9579</td>\n",
       "      <td>Census Tract 9579</td>\n",
       "      <td>IL</td>\n",
       "      <td>Alexander County</td>\n",
       "      <td>Illinois</td>\n",
       "      <td>CT</td>\n",
       "      <td>10197484</td>\n",
       "      <td>4353423</td>\n",
       "      <td>POLYGON ((-89.19649 37.00498, -89.19298 37.006...</td>\n",
       "    </tr>\n",
       "    <tr>\n",
       "      <th>3</th>\n",
       "      <td>17</td>\n",
       "      <td>073</td>\n",
       "      <td>030800</td>\n",
       "      <td>1400000US17073030800</td>\n",
       "      <td>17073030800</td>\n",
       "      <td>308</td>\n",
       "      <td>Census Tract 308</td>\n",
       "      <td>IL</td>\n",
       "      <td>Henry County</td>\n",
       "      <td>Illinois</td>\n",
       "      <td>CT</td>\n",
       "      <td>22273126</td>\n",
       "      <td>31720</td>\n",
       "      <td>POLYGON ((-89.92486 41.24720, -89.92063 41.248...</td>\n",
       "    </tr>\n",
       "    <tr>\n",
       "      <th>4</th>\n",
       "      <td>17</td>\n",
       "      <td>107</td>\n",
       "      <td>953100</td>\n",
       "      <td>1400000US17107953100</td>\n",
       "      <td>17107953100</td>\n",
       "      <td>9531</td>\n",
       "      <td>Census Tract 9531</td>\n",
       "      <td>IL</td>\n",
       "      <td>Logan County</td>\n",
       "      <td>Illinois</td>\n",
       "      <td>CT</td>\n",
       "      <td>13166640</td>\n",
       "      <td>375360</td>\n",
       "      <td>POLYGON ((-89.41759 40.16712, -89.41683 40.172...</td>\n",
       "    </tr>\n",
       "  </tbody>\n",
       "</table>\n",
       "</div>"
      ],
      "text/plain": [
       "  STATEFP COUNTYFP TRACTCE              AFFGEOID        GEOID  NAME  \\\n",
       "0      17      143  000200  1400000US17143000200  17143000200     2   \n",
       "1      17      143  003200  1400000US17143003200  17143003200    32   \n",
       "2      17      003  957900  1400000US17003957900  17003957900  9579   \n",
       "3      17      073  030800  1400000US17073030800  17073030800   308   \n",
       "4      17      107  953100  1400000US17107953100  17107953100  9531   \n",
       "\n",
       "            NAMELSAD STUSPS        NAMELSADCO STATE_NAME LSAD     ALAND  \\\n",
       "0     Census Tract 2     IL     Peoria County   Illinois   CT    971324   \n",
       "1    Census Tract 32     IL     Peoria County   Illinois   CT   3192142   \n",
       "2  Census Tract 9579     IL  Alexander County   Illinois   CT  10197484   \n",
       "3   Census Tract 308     IL      Henry County   Illinois   CT  22273126   \n",
       "4  Census Tract 9531     IL      Logan County   Illinois   CT  13166640   \n",
       "\n",
       "    AWATER                                           geometry  \n",
       "0        0  POLYGON ((-89.64231 40.66903, -89.64230 40.670...  \n",
       "1        0  POLYGON ((-89.62153 40.77981, -89.62148 40.783...  \n",
       "2  4353423  POLYGON ((-89.19649 37.00498, -89.19298 37.006...  \n",
       "3    31720  POLYGON ((-89.92486 41.24720, -89.92063 41.248...  \n",
       "4   375360  POLYGON ((-89.41759 40.16712, -89.41683 40.172...  "
      ]
     },
     "execution_count": 9,
     "metadata": {},
     "output_type": "execute_result"
    }
   ],
   "source": [
    "IL_url = \"https://www2.census.gov/geo/tiger/GENZ2020/shp/cb_2020_17_tract_500k.zip\"\n",
    "IL_tracts = gpd.read_file(IL_url)\n",
    "IL_tracts.head()"
   ]
  },
  {
   "attachments": {},
   "cell_type": "markdown",
   "metadata": {},
   "source": [
    "#### Now let's read in our mobile data\n",
    "* IL first"
   ]
  },
  {
   "cell_type": "code",
   "execution_count": 10,
   "metadata": {
    "tags": []
   },
   "outputs": [],
   "source": [
    "IL_data = pd.read_csv('IL_1000_April06-08.csv')\n",
    "IL_gpd = gpd.GeoDataFrame(IL_data, crs='EPSG:4269', geometry=gpd.points_from_xy(IL_data['lon'], IL_data['lat']))\n",
    "#aea_proj_str = '+proj=aea +lat_1=38.00 +lat_2=42.00 +lat_0=40.11 +lon_0=-88.228'\n",
    "#IL_gpd = IL_gpd.to_crs(aea_proj_str)"
   ]
  },
  {
   "cell_type": "code",
   "execution_count": 11,
   "metadata": {},
   "outputs": [],
   "source": [
    "# Exclude points outside of Illinois\n",
    "IL_gpd_j = gpd.sjoin(IL_gpd, IL_tracts, how='inner', predicate='within')"
   ]
  },
  {
   "cell_type": "code",
   "execution_count": 12,
   "metadata": {},
   "outputs": [
    {
     "name": "stdout",
     "output_type": "stream",
     "text": [
      "235367\n",
      "224500\n"
     ]
    }
   ],
   "source": [
    "print(IL_gpd.shape[0])\n",
    "print(IL_gpd_j.shape[0])"
   ]
  },
  {
   "cell_type": "code",
   "execution_count": null,
   "metadata": {},
   "outputs": [],
   "source": []
  },
  {
   "attachments": {},
   "cell_type": "markdown",
   "metadata": {},
   "source": [
    "#### Let's look at Tulsa"
   ]
  },
  {
   "cell_type": "code",
   "execution_count": 61,
   "metadata": {},
   "outputs": [],
   "source": [
    "OK_data = pd.read_csv('OK_1000_May14-16.csv')\n",
    "OK_gpd = gpd.GeoDataFrame(OK_data, crs='EPSG:4269', geometry=gpd.points_from_xy(OK_data['lon'], OK_data['lat']))\n",
    "#aea_proj_str = '+proj=aea +lat_1=38.00 +lat_2=42.00 +lat_0=40.11 +lon_0=-88.228'\n",
    "#IL_gpd = IL_gpd.to_crs(aea_proj_str)\n",
    "\n",
    "# Exclude points outside of Oklahoma\n",
    "OK_gpd_j = gpd.sjoin(OK_gpd, OK_tracts, how='inner', predicate='within')\n",
    "\n",
    "# Create datetime column using timestamps\n",
    "OK_gpd_j['datetime'] = pd.to_datetime(OK_gpd_j['timestamp'], unit='s')\n",
    "\n",
    "# Create a date column\n",
    "OK_gpd_j['date'] = OK_gpd_j['datetime'].dt.date"
   ]
  },
  {
   "cell_type": "code",
   "execution_count": 45,
   "metadata": {},
   "outputs": [],
   "source": [
    "# Preprocess mobility data; separate by user_ID, filter out points with speed > 400 km/h, \n",
    "# and compress points within 200 m of each other in the same trajectory\n",
    "tdf = skmob.TrajDataFrame(OK_gpd_j, latitude='lat', longitude='lon', datetime='datetime', user_id='uid')\n",
    "f_tdf = skmob.preprocessing.filtering.filter(tdf, max_speed_kmh=400, include_loops=False)\n",
    "fc_tdf = skmob.preprocessing.compression.compress(f_tdf, spatial_radius_km=0.2)"
   ]
  },
  {
   "cell_type": "code",
   "execution_count": 46,
   "metadata": {},
   "outputs": [],
   "source": [
    "gdf_tulsa = gpd.GeoDataFrame(fc_tdf, crs='EPSG:4269', geometry=gpd.points_from_xy(fc_tdf['lng'], fc_tdf['lat']))\n",
    "\n",
    "gdf_tulsa['datetime'] = pd.to_datetime(gdf_tulsa['datetime'], format='%Y-%m-%d %H:%M:%S')\n",
    "gdf_tulsa['datetime'] = gdf_tulsa['datetime'].dt.strftime('%Y%m%d%H%M%S')"
   ]
  },
  {
   "cell_type": "code",
   "execution_count": 47,
   "metadata": {},
   "outputs": [
    {
     "data": {
      "text/plain": [
       "(96990, 27)"
      ]
     },
     "execution_count": 47,
     "metadata": {},
     "output_type": "execute_result"
    }
   ],
   "source": [
    "gdf_tulsa.shape"
   ]
  },
  {
   "cell_type": "code",
   "execution_count": 49,
   "metadata": {},
   "outputs": [
    {
     "data": {
      "image/svg+xml": "<svg xmlns=\"http://www.w3.org/2000/svg\" xmlns:xlink=\"http://www.w3.org/1999/xlink\" width=\"100.0\" height=\"100.0\" viewBox=\"-95.53688 35.56012 0.2937599999999918 0.10976000000000141\" preserveAspectRatio=\"xMinYMin meet\"><g transform=\"matrix(1,0,0,-1,0,71.22999999999999)\"><path fill-rule=\"evenodd\" fill=\"#66cc99\" stroke=\"#555555\" stroke-width=\"0.005875199999999836\" opacity=\"0.6\" d=\"M -95.254,35.571 L -95.254,35.659 L -95.526,35.659 L -95.526,35.571 L -95.254,35.571 z\" /></g></svg>",
      "text/plain": [
       "<POLYGON ((-95.254 35.571, -95.254 35.659, -95.526 35.659, -95.526 35.571, -...>"
      ]
     },
     "execution_count": 49,
     "metadata": {},
     "output_type": "execute_result"
    }
   ],
   "source": [
    "from shapely.geometry import box\n",
    "# Define bounding box of damage site\n",
    "minx, miny, maxx, maxy = [-95.526, 35.571, -95.254, 35.659]\n",
    "poly = box(minx=minx, miny=miny, maxx=maxx, maxy=maxy)\n",
    "poly"
   ]
  },
  {
   "cell_type": "code",
   "execution_count": 50,
   "metadata": {},
   "outputs": [],
   "source": [
    "# Retrieve all mobile data points within the bounding box\n",
    "damage_area_pts = gdf_tulsa.cx[minx:maxx, miny:maxy]"
   ]
  },
  {
   "cell_type": "code",
   "execution_count": 82,
   "metadata": {},
   "outputs": [
    {
     "name": "stderr",
     "output_type": "stream",
     "text": [
      "C:\\Users\\stlp\\AppData\\Local\\Temp\\ipykernel_7856\\1601473356.py:3: FutureWarning: Not prepending group keys to the result index of transform-like apply. In the future, the group keys will be included in the index, regardless of whether the applied function returns a like-indexed object.\n",
      "To preserve the previous behavior, use\n",
      "\n",
      "\t>>> .groupby(..., group_keys=False)\n",
      "\n",
      "To adopt the future behavior and silence this warning, use \n",
      "\n",
      "\t>>> .groupby(..., group_keys=True)\n",
      "  damage_area_pts = damage_area_pts.groupby('uid').apply(lambda x: x.sort_values('datetime'))\n"
     ]
    }
   ],
   "source": [
    "damage_area_pts['datetime'] = pd.to_datetime(damage_area_pts['datetime'], format='%Y%m%d%H%M%S')\n",
    "# Groupby 'uid' and sort by 'datetime'\n",
    "damage_area_pts = damage_area_pts.groupby('uid').apply(lambda x: x.sort_values('datetime'))\n",
    "\n",
    "# Make date column a string\n",
    "damage_area_pts['date'] = damage_area_pts['datetime'].dt.date.astype(str)\n",
    "\n",
    "# Separate by date\n",
    "damage_area_pre = damage_area_pts[damage_area_pts['date'] == '2020-05-14']\n",
    "damage_area_dur = damage_area_pts[damage_area_pts['date'] == '2020-05-15']\n",
    "damage_area_post = damage_area_pts[damage_area_pts['date'] == '2020-05-16']"
   ]
  },
  {
   "cell_type": "code",
   "execution_count": 87,
   "metadata": {},
   "outputs": [
    {
     "data": {
      "text/plain": [
       "Unnamed: 0                                                 25912\n",
       "timestamp                                             1589557252\n",
       "uid            12b4779932a6b1d2dcf7cc8940032d77b7bcae40f9ebc4...\n",
       "dtype                                                          1\n",
       "lat                                                    35.633588\n",
       "lng                                                   -95.459912\n",
       "acc                                                           12\n",
       "tz                                                        -18000\n",
       "class                                                      OTHER\n",
       "transform                                                   KEEP\n",
       "timestamp2                                            1589539252\n",
       "datetime                                     2020-05-15 15:40:52\n",
       "geometry                            POINT (-95.459912 35.633588)\n",
       "index_right                                                 1137\n",
       "STATEFP                                                       40\n",
       "COUNTYFP                                                     101\n",
       "TRACTCE                                                   001100\n",
       "AFFGEOID                                    1400000US40101001100\n",
       "GEOID                                                40101001100\n",
       "NAME                                                          11\n",
       "NAMELSAD                                         Census Tract 11\n",
       "STUSPS                                                        OK\n",
       "NAMELSADCO                                       Muskogee County\n",
       "STATE_NAME                                              Oklahoma\n",
       "LSAD                                                          CT\n",
       "ALAND                                                  371020968\n",
       "AWATER                                                   1770766\n",
       "date                                                  2020-05-15\n",
       "Name: 66648, dtype: object"
      ]
     },
     "execution_count": 87,
     "metadata": {},
     "output_type": "execute_result"
    }
   ],
   "source": [
    "damage_area_dur.iloc[-1]"
   ]
  },
  {
   "cell_type": "code",
   "execution_count": 88,
   "metadata": {},
   "outputs": [
    {
     "name": "stderr",
     "output_type": "stream",
     "text": [
      "100%|██████████| 4/4 [00:00<00:00, 541.38it/s]\n",
      "100%|██████████| 5/5 [00:00<00:00, 418.06it/s]\n"
     ]
    }
   ],
   "source": [
    "from skmob.measures.individual import jump_lengths, radius_of_gyration, home_location\n",
    "\n",
    "damage_area_pre_tdf = skmob.TrajDataFrame(damage_area_pre, latitude='lat', longitude='lng', datetime='datetime', user_id='uid')\n",
    "damage_area_post_tdf = skmob.TrajDataFrame(damage_area_post, latitude='lat', longitude='lng', datetime='datetime', user_id='uid')\n",
    "\n",
    "rg_df_pre = skmob.measures.individual.radius_of_gyration(damage_area_pre_tdf)\n",
    "rg_df_post = skmob.measures.individual.radius_of_gyration(damage_area_post_tdf)"
   ]
  },
  {
   "cell_type": "code",
   "execution_count": 90,
   "metadata": {},
   "outputs": [
    {
     "name": "stdout",
     "output_type": "stream",
     "text": [
      "                                                 uid  radius_of_gyration\n",
      "0  037f0b170869db4be56a791c6c887e5b20f86bdba03421...            0.000000\n",
      "1  1080fefe3fd3cc26c016b33c44ecd33fe5096d4148a23d...            3.054591\n",
      "2  16432b557be8fd58fabe985ee9ffc996f642239763c720...            5.567875\n",
      "3  19a20476c48970975cf2bf5ae755255a7013c20d25cfb9...            0.000000\n",
      "                                                 uid  radius_of_gyration\n",
      "0  05bd8133882bab54e9260df62c00a6f211c1e171cc1291...            3.026961\n",
      "1  1080fefe3fd3cc26c016b33c44ecd33fe5096d4148a23d...            2.164827\n",
      "2  1253bf323cfba0d5e7ff5b7500e52b59009438e53dd079...            3.028116\n",
      "3  155d17e7b9e5bd1ab27f22411777be4503cf1fecf21928...            0.000000\n",
      "4  16da7aba5119030149cc90b372f7d136a70bd7a0910f30...            0.495226\n"
     ]
    }
   ],
   "source": [
    "print(rg_df_pre)\n",
    "print(rg_df_post)"
   ]
  }
 ],
 "metadata": {
  "kernelspec": {
   "display_name": "Python 3",
   "language": "python",
   "name": "python3"
  },
  "language_info": {
   "codemirror_mode": {
    "name": "ipython",
    "version": 3
   },
   "file_extension": ".py",
   "mimetype": "text/x-python",
   "name": "python",
   "nbconvert_exporter": "python",
   "pygments_lexer": "ipython3",
   "version": "3.10.10"
  },
  "vscode": {
   "interpreter": {
    "hash": "27d8c82720d960df87743be14161e6f7351af57d8b5f04fea83f01e4b383fdff"
   }
  }
 },
 "nbformat": 4,
 "nbformat_minor": 4
}
